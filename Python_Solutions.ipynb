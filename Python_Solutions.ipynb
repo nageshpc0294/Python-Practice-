{
  "cells": [
    {
      "cell_type": "markdown",
      "metadata": {
        "id": "l0ZzOlyxB-kf"
      },
      "source": [
        "<h1>Python: without numpy or sklearn </h1>"
      ]
    },
    {
      "cell_type": "markdown",
      "metadata": {
        "id": "C0xO8JV9B-ki"
      },
      "source": [
        "<h3> Q1: Given two matrices please print the product of those two matrices </h3>\n",
        "<pre>\n",
        "\n",
        "Ex 1: A   = [[1 3 4]\n",
        "             [2 5 7]\n",
        "             [5 9 6]]\n",
        "      B   = [[1 0 0]\n",
        "             [0 1 0]\n",
        "             [0 0 1]]\n",
        "      A*B = [[1 3 4]\n",
        "             [2 5 7]\n",
        "             [5 9 6]]\n",
        "\n",
        "     \n",
        "Ex 2: A   = [[1 2]\n",
        "             [3 4]]\n",
        "      B   = [[1 2 3 4 5]\n",
        "             [5 6 7 8 9]]\n",
        "      A*B = [[11 14 17 20 23]\n",
        "             [23 30 37 44 51]]\n",
        "             \n",
        "Ex 3: A   = [[1 2]\n",
        "             [3 4]]\n",
        "      B   = [[1 4]\n",
        "             [5 6]\n",
        "             [7 8]\n",
        "             [9 6]]\n",
        "      A*B =Not possible\n",
        "</pre>"
      ]
    },
    {
      "cell_type": "code",
      "execution_count": 1,
      "metadata": {
        "colab": {
          "base_uri": "https://localhost:8080/"
        },
        "id": "qx0clmw6LTa8",
        "outputId": "18c515ea-090d-4358-b97e-c296cef4b9c0"
      },
      "outputs": [
        {
          "output_type": "stream",
          "name": "stdout",
          "text": [
            "The product of the given two matrix\n",
            " [[11, 14, 17, 20, 23], [23, 30, 37, 44, 51]]\n"
          ]
        }
      ],
      "source": [
        "#input matrix\n",
        "A = [[1,2],[3,4]]\n",
        "B = [[1,2,3,4,5],[5,6,7,8,9]]\n",
        "\n",
        "#mitilication function\n",
        "def matrix_mul(A,B):\n",
        "    '''\n",
        "    This function conduct row wise multiplication\n",
        "    '''\n",
        "    result = [A[i] * B[i] for i in range(0,len(A))]\n",
        "    return sum(result)\n",
        "  \n",
        "if len(A[0]) == len(B):\n",
        "    #Checks weather the matrix multiplication is possible or not\n",
        "    #transpose of a matrix\n",
        "    #intiution from Apllied Al lectures\n",
        "    B_trans = [[row[i] for row in B] for i in range(len(B[0]))]\n",
        "\n",
        "    #creating empty list to store final result\n",
        "    product = list()\n",
        "\n",
        "    #for loop to calculate the product and append them in product matrix\n",
        "    for x in A:\n",
        "        #takes row elements in matrix A\n",
        "        row_product = list()\n",
        "        #takes row elements in Transpose matrix\n",
        "        for y in B_trans:\n",
        "            #conducts row wise multiplication by calling matrix_mul function\n",
        "            row_product.append(matrix_mul(x,y))\n",
        "            #append the final result to the list\n",
        "        product.append(row_product)\n",
        "    print(\"The product of the given two matrix\\n\", product)\n",
        "else:\n",
        "    print(\"The multiplication is Not possible\")"
      ]
    },
    {
      "cell_type": "markdown",
      "metadata": {
        "id": "at4VwLggB-kn"
      },
      "source": [
        "<h3> Q2: Proportional Sampling - Select a number randomly with probability proportional to its magnitude from the given array of n elements</h3>\n",
        "\n",
        "Consider an experiment, selecting an element from the list A randomly with probability proportional to its magnitude.\n",
        "assume we are doing the same experiment for 100 times with replacement, in each experiment you will print a number that is selected randomly from A.\n",
        "\n",
        "<pre>\n",
        "Ex 1: A = [0 5 27 6 13 28 100 45 10 79]\n",
        "let f(x) denote the number of times x getting selected in 100 experiments.\n",
        "f(100) > f(79) > f(45) > f(28) > f(27) > f(13) > f(10) > f(6) > f(5) > f(0)\n",
        "</pre>"
      ]
    },
    {
      "cell_type": "code",
      "execution_count": 2,
      "metadata": {
        "colab": {
          "base_uri": "https://localhost:8080/"
        },
        "id": "oXTddtQieEzc",
        "outputId": "4007f317-23f4-4723-e94d-c89635f91968"
      },
      "outputs": [
        {
          "output_type": "stream",
          "name": "stdout",
          "text": [
            "The frequency of 0 in a sampled list 0\n",
            "The frequency of 5 in a sampled list 153\n",
            "The frequency of 6 in a sampled list 187\n",
            "The frequency of 10 in a sampled list 327\n",
            "The frequency of 13 in a sampled list 391\n",
            "The frequency of 27 in a sampled list 876\n",
            "The frequency of 28 in a sampled list 843\n",
            "The frequency of 45 in a sampled list 1411\n",
            "The frequency of 79 in a sampled list 2511\n",
            "The frequency of 100 in a sampled list 3301\n"
          ]
        }
      ],
      "source": [
        "A = [0,5,27,6,13,28,100,45,10,79]\n",
        "\n",
        "#importing random for generating the random values for sampling\n",
        "import random\n",
        "\n",
        "#dividing each element with sum of the list A to normalize the list\n",
        "A_dash = [i/sum(A) for i in A]\n",
        "\n",
        "#calculating cummalative sum \n",
        "cummalative = list()\n",
        "number = 0\n",
        "for i in A_dash:\n",
        "  number += i\n",
        "  cummalative.append(number)\n",
        "\n",
        "#creates the dictionary with cummalative scores as key and elements of A as values\n",
        "dictionary = dict(zip(cummalative,A))\n",
        "\n",
        "def pick_a_number_from_list(A):\n",
        "    '''\n",
        "    This function picks the random number\n",
        "    '''\n",
        "    #generate uniform number\n",
        "    r = random.uniform(0.0,1.0)\n",
        "    \n",
        "    number = 0\n",
        "    for i in range(len(cummalative)):\n",
        "        #for loop checks random numbers\n",
        "        if (r >= number):\n",
        "            number = cummalative[i]\n",
        "    return dictionary[number]\n",
        "\n",
        "def count(a):\n",
        "    '''\n",
        "    This function counts number of element in the list\n",
        "    '''\n",
        "    num = 0 \n",
        "    for i in sampling_based_on_magnitued:\n",
        "       if i == a:\n",
        "         num += 1\n",
        "    return num\n",
        "\n",
        "#creating a list of 1000 sampled values with sorting\n",
        "sampling_based_on_magnitued = sorted([pick_a_number_from_list(i) for i in range(10000)])\n",
        "\n",
        "#printing the frequency of each elements after proportional sampling\n",
        "for i in sorted(A):\n",
        "  print(\"The frequency of {} in a sampled list {}\".format(i,count(i)))"
      ]
    },
    {
      "cell_type": "markdown",
      "metadata": {
        "id": "D1xQy2WWB-kq"
      },
      "source": [
        "<h3> Q3: Replace the digits in the string with #</h3>\n",
        "\n",
        "consider a string that will have digits in that, we need to remove all the not digits and replace the digits with #\n",
        "<pre>\n",
        "Ex 1: A = 234                Output: ###\n",
        "Ex 2: A = a2b3c4             Output: ###\n",
        "Ex 3: A = abc                Output:   (empty string)\n",
        "Ex 5: A = #2a$#b%c%561#      Output: ####\n",
        "</pre>"
      ]
    },
    {
      "cell_type": "code",
      "execution_count": 3,
      "metadata": {
        "colab": {
          "base_uri": "https://localhost:8080/"
        },
        "id": "CngLT8QnIabf",
        "outputId": "9927dfe0-82ba-442f-9796-6001c4d9add2"
      },
      "outputs": [
        {
          "output_type": "stream",
          "name": "stdout",
          "text": [
            "Input :  234\n",
            "Output :  ###\n",
            " \n",
            "Input :  a2b3c4\n",
            "Output :  ###\n",
            " \n",
            "Input :  abc\n",
            "Output :  \n",
            " \n",
            "Input :  #2a$#b%c%561#\n",
            "Output :  ####\n",
            " \n"
          ]
        }
      ],
      "source": [
        "import re\n",
        "\n",
        "#List of inputs\n",
        "A = ['234',\"a2b3c4\",\"abc\",\"#2a$#b%c%561#\"]\n",
        "\n",
        "#loop to print the output\n",
        "for string in A:\n",
        "  print(\"Input : \", string)\n",
        "\n",
        "  #finding the numbers in the string\n",
        "  x = re.findall('[0-9]', string)\n",
        "\n",
        "  print(\"Output : \",'#' * len(x))\n",
        "  print(\" \")"
      ]
    },
    {
      "cell_type": "markdown",
      "metadata": {
        "id": "j7h0Ywg7B-kw"
      },
      "source": [
        "<h3> Q4: Students marks dashboard</h3>\n",
        "\n",
        "consider the marks list of class students given two lists <br>\n",
        "Students = ['student1','student2','student3','student4','student5','student6','student7','student8','student9','student10'] <br>\n",
        "Marks = [45, 78, 12, 14, 48, 43, 45, 98, 22, 80] <br>\n",
        "from the above two lists the Student[0] got Marks[0],  Student[1] got Marks[1] and so on <br><br>\n",
        "your task is to print the name of students\n",
        "<strong>a. Who got top 5 ranks, in the descending order of marks</strong> <br>\n",
        "<strong>b. Who got least 5 ranks, in the increasing order of marks</strong><br>\n",
        "<strong>d. Who got marks between  &gt;25th percentile &lt;75th percentile, in the increasing order of marks</strong>\n",
        "\n",
        "<pre>\n",
        "Ex 1: \n",
        "Students=['student1','student2','student3','student4','student5','student6','student7','student8','student9','student10'] \n",
        "Marks = [45, 78, 12, 14, 48, 43, 47, 98, 22, 80]\n",
        "a. \n",
        "student8  98\n",
        "student10 80\n",
        "student2  78\n",
        "student5  48\n",
        "student7  47\n",
        "b.\n",
        "student3 12\n",
        "student4 14\n",
        "student9 22\n",
        "student6 43\n",
        "student1 45\n",
        "c.\n",
        "student9 22\n",
        "student6 43\n",
        "student1 45\n",
        "student7 47\n",
        "student5 48\n",
        "</pre>"
      ]
    },
    {
      "cell_type": "code",
      "execution_count": 4,
      "metadata": {
        "colab": {
          "base_uri": "https://localhost:8080/"
        },
        "id": "cSQBnuHvr8pd",
        "outputId": "619b344d-908c-45af-f410-08ebf75cbc2e"
      },
      "outputs": [
        {
          "output_type": "stream",
          "name": "stdout",
          "text": [
            "The top 5 ranks in the given list\n",
            "student8 98\n",
            "student10 80\n",
            "student2 78\n",
            "student5 48\n",
            "student7 47\n",
            "\n",
            "The least 5 ranks in the given list\n",
            "student3 12\n",
            "student4 14\n",
            "student9 22\n",
            "student6 43\n",
            "student1 45\n",
            "\n",
            "The marks between >25th percentile <75th percentile \n",
            "student9 22\n",
            "student6 43\n",
            "student1 45\n",
            "student7 47\n",
            "student5 48\n"
          ]
        }
      ],
      "source": [
        "Students=['student1','student2','student3','student4','student5','student6','student7','student8','student9','student10'] \n",
        "Marks = [45, 78, 12, 14, 48, 43, 47, 98, 22, 80]\n",
        "\n",
        "#dictionary creation with marks as keys and students as values\n",
        "dictionary = dict(zip(Marks, Students))\n",
        "\n",
        "def top_5_ranks():\n",
        "    '''\n",
        "    This function prints least 5 ranks\n",
        "    '''\n",
        "    #printing the top 5 marks\n",
        "    for i in sorted(dictionary.keys(), reverse = True)[:5]:\n",
        "      print(dictionary[i],i)\n",
        "\n",
        "def least_5_ranks():\n",
        "    '''\n",
        "    This function prints top 5 ranks\n",
        "    '''\n",
        "    #printing the least 5 marks\n",
        "    for i in sorted(dictionary.keys())[:5]:\n",
        "      print(dictionary[i], i)\n",
        "\n",
        "def interquartile_range():\n",
        "    '''\n",
        "    This function calculate the percentiles of the given number\n",
        "    '''\n",
        "    #intuition from the evaluator \n",
        "    #calculating max and min of marks list\n",
        "    max_mark = max(Marks)\n",
        "    min_mark = min(Marks)\n",
        "\n",
        "    #calculating difference between max and min\n",
        "    diff = max_mark - min_mark\n",
        "\n",
        "    #calculating 25th and 75th percentile\n",
        "    pre_25 = diff*0.25\n",
        "    pre_75 = diff*0.75\n",
        "\n",
        "    #priniting the output\n",
        "    for i in sorted(Marks):\n",
        "      if pre_25 < i < pre_75:\n",
        "        print(dictionary[i],i)\n",
        "\n",
        "#calling the all the function\n",
        "print(\"The top 5 ranks in the given list\")\n",
        "top_5_ranks()\n",
        "\n",
        "print(\"\\nThe least 5 ranks in the given list\")\n",
        "least_5_ranks()\n",
        "\n",
        "print(\"\\nThe marks between >25th percentile <75th percentile \")\n",
        "interquartile_range()"
      ]
    },
    {
      "cell_type": "markdown",
      "metadata": {
        "id": "qha0OhQHB-k1"
      },
      "source": [
        "<h3> Q5: Find the closest points</h3>\n",
        "\n",
        "Consider you have given n data points in the form of list of tuples like S=[(x1,y1),(x2,y2),(x3,y3),(x4,y4),(x5,y5),..,(xn,yn)] and a point P=(p,q) <br> Your task is to find 5 closest points(based on cosine distance) in S from P\n",
        "<br>Cosine distance between two points (x,y) and (p,q) is defind as $cos^{-1}(\\frac{(x\\cdot p+y\\cdot q)}{\\sqrt(x^2+y^2)\\cdot\\sqrt(p^2+q^2)})$\n",
        "<pre>\n",
        "Ex:\n",
        "\n",
        "S= [(1,2),(3,4),(-1,1),(6,-7),(0, 6),(-5,-8),(-1,-1),(6,0),(1,-1)]\n",
        "P= (3,-4)\n",
        "\n",
        "<img src='https://i.imgur.com/vyZZQGu.png' width=400>\n",
        "\n",
        "Output:\n",
        "(6,-7)\n",
        "(1,-1)\n",
        "(6,0)\n",
        "(-5,-8)\n",
        "(-1,-1)\n",
        "</pre>\n",
        " Hint - If you write the formula correctly you'll get the distance between points (6,-7) and (3,-4) = 0.065"
      ]
    },
    {
      "cell_type": "code",
      "execution_count": 5,
      "metadata": {
        "colab": {
          "base_uri": "https://localhost:8080/"
        },
        "id": "VkdrKfgjd0mJ",
        "outputId": "2f1bb5b1-d397-418e-c1da-160e5e333f2d"
      },
      "outputs": [
        {
          "output_type": "stream",
          "name": "stdout",
          "text": [
            "The 5 closest points(based on cosine distance) in S from P\n",
            "(6, -7)\n",
            "(1, -1)\n",
            "(6, 0)\n",
            "(-5, -8)\n",
            "(-1, -1)\n"
          ]
        }
      ],
      "source": [
        "S= [(1,2),(3,4),(-1,1),(6,-7),(0, 6),(-5,-8),(-1,-1),(6,0),(1,-1)]\n",
        "P= (3,-4)\n",
        "\n",
        "#creating separate list for x and y values\n",
        "x_values = [i[0] for i in S]\n",
        "y_values = [i[1] for i in S]\n",
        "\n",
        "#importing math library for cosine inverse and square root operation\n",
        "import math\n",
        "\n",
        "#creating the empty list for inputing the cosine similarities\n",
        "cosine_distance_list = list()\n",
        "\n",
        "def cosine_similarities():\n",
        "    '''\n",
        "    This function calculates the cosine similarity between given points\n",
        "    '''\n",
        "    cosine = 1\n",
        "\n",
        "    #calculating the cosine similarities\n",
        "    for i in range(len(S)):\n",
        "        cosine = math.acos(((x_values[i] * P[0]) + (y_values[i] * P[1])) / ((math.sqrt(x_values[i]**2 + y_values[i]**2)) * (math.sqrt(P[0]**2 + P[1]**2))))\n",
        "        cosine_distance_list.append(cosine) #appending the values\n",
        "\n",
        "#calling the function\n",
        "cosine_similarities()\n",
        "\n",
        "#creation of dictionary with cosine similarity as key and points in S as values\n",
        "dictionary = dict(zip(cosine_distance_list, S))\n",
        "\n",
        "#printing the 5 closest points\n",
        "print(\"The 5 closest points(based on cosine distance) in S from P\")\n",
        "for i in sorted(dictionary.keys())[:5]:\n",
        "    print(dictionary[i])"
      ]
    },
    {
      "cell_type": "markdown",
      "metadata": {
        "id": "-g11jeAiB-k5"
      },
      "source": [
        "<h3> Q6: Find Which line separates oranges and apples</h3>\n",
        "consider you have given two set of data points in the form of list of tuples like \n",
        "<pre>\n",
        "Red =[(R11,R12),(R21,R22),(R31,R32),(R41,R42),(R51,R52),..,(Rn1,Rn2)]\n",
        "Blue=[(B11,B12),(B21,B22),(B31,B32),(B41,B42),(B51,B52),..,(Bm1,Bm2)]\n",
        "</pre>\n",
        "and set of line equations(in the string formate, i.e list of strings)\n",
        "<pre>\n",
        "Lines = [a1x+b1y+c1,a2x+b2y+c2,a3x+b3y+c3,a4x+b4y+c4,..,K lines]\n",
        "Note: you need to string parsing here and get the coefficients of x,y and intercept\n",
        "</pre>\n",
        "your task is to for each line that is given print \"YES\"/\"NO\", you will print yes, if all the red points are one side of the line and blue points are other side of the line, otherwise no\n",
        "<pre>\n",
        "Ex:\n",
        "Red= [(1,1),(2,1),(4,2),(2,4), (-1,4)]\n",
        "Blue= [(-2,-1),(-1,-2),(-3,-2),(-3,-1),(1,-3)]\n",
        "Lines=[\"1x+1y+0\",\"1x-1y+0\",\"1x+0y-3\",\"0x+1y-0.5\"]\n",
        "<img src='https://i.imgur.com/mSnQW5K.png' width=400>\n",
        "\n",
        "Output:\n",
        "YES\n",
        "NO\n",
        "NO\n",
        "YES\n",
        "</pre>"
      ]
    },
    {
      "cell_type": "code",
      "execution_count": 6,
      "metadata": {
        "colab": {
          "base_uri": "https://localhost:8080/"
        },
        "id": "JxAl7JpLS5H-",
        "outputId": "3acbaa29-da7b-4beb-af27-16178905a289"
      },
      "outputs": [
        {
          "output_type": "stream",
          "name": "stdout",
          "text": [
            "OUTPUT:\n",
            "YES\n",
            "NO\n",
            "NO\n",
            "YES\n"
          ]
        }
      ],
      "source": [
        "Red= [(1,1),(2,1),(4,2),(2,4), (-1,4)]\n",
        "Blue= [(-2,-1),(-1,-2),(-3,-2),(-3,-1),(1,-3)]\n",
        "Lines=[\"1x+1y+0\",\"1x-1y+0\",\"1x+0y-3\",\"0x+1y-0.5\"]\n",
        "\n",
        "#importing regular operation expressions for separating variables in \"ax+by+c\" \n",
        "import re\n",
        "\n",
        "def string_splitting(a):\n",
        "    '''\n",
        "    This function splits the strings\n",
        "    '''\n",
        "    #strings are splitted using re operations\n",
        "    splitted = re.split(r\"[a-zA-Z]\", a)\n",
        "\n",
        "    #the splitted strings are stored in list for better handling\n",
        "    co_efficients = [float(i) for i in splitted]\n",
        "    \n",
        "    return (co_efficients[:2],co_efficients[-1])\n",
        "\n",
        "def caluclation(a,b):\n",
        "    '''\n",
        "    This function finds the distance\n",
        "    '''\n",
        "    #coeffeicients of a and b are stored \n",
        "    co_eff = string_splitting(a)[0]\n",
        "\n",
        "    #the coefficients are multiplied with the given points\n",
        "    w_values = [co_eff[i] * b[i] for i in range(len(b))]\n",
        "    \n",
        "    #the sum of all w values with the addition of the interceptor\n",
        "    return (sum(w_values) + string_splitting(a)[1])\n",
        "\n",
        "def i_am_the_one(a,b):\n",
        "    '''\n",
        "    This function checks the line is separable or not\n",
        "    '''\n",
        "    if caluclation(a,b) >= 0:\n",
        "      return 1\n",
        "    else:\n",
        "      return 0\n",
        "\n",
        "def results(i):\n",
        "    '''\n",
        "    This function checks the lines separates the given points\n",
        "    '''\n",
        "    #creates two list\n",
        "    blue_list = [(i_am_the_one(i,j)) for j in Blue]\n",
        "    red_list = [(i_am_the_one(i,k)) for k in Red]\n",
        "    \n",
        "    #checking weather both list have different boolen values\n",
        "    if (all(blue_list)) != (all(red_list)):\n",
        "      return (\"YES\")\n",
        "    else:\n",
        "      return (\"NO\")\n",
        "\n",
        "print(\"OUTPUT:\")\n",
        "for i in Lines:\n",
        "    print(results(i))"
      ]
    },
    {
      "cell_type": "markdown",
      "metadata": {
        "id": "9OBpURbNB-k9"
      },
      "source": [
        "<h3> Q7: Filling the missing values in the specified formate</h3>\n",
        "You will be given a string with digits and '\\_'(missing value) symbols you have to replace the '\\_' symbols as explained \n",
        "<pre>\n",
        "Ex 1: _, _, _, 24 ==> 24/4, 24/4, 24/4, 24/4 i.e we. have distributed the 24 equally to all 4 places <br>\n",
        "Ex 2: 40, _, _, _, 60 ==> (60+40)/5,(60+40)/5,(60+40)/5,(60+40)/5,(60+40)/5 ==> 20, 20, 20, 20, 20 i.e. the sum of (60+40) is distributed qually to all 5 places<br>\n",
        "Ex 3: 80, _, _, _, _  ==> 80/5,80/5,80/5,80/5,80/5 ==> 16, 16, 16, 16, 16 i.e. the 80 is distributed qually to all 5 missing values that are right to it<br>\n",
        "Ex 4: _, _, 30, _, _, _, 50, _, _  \n",
        "==> we will fill the missing values from left to right \n",
        "    a. first we will distribute the 30 to left two missing values (10, 10, 10, _, _, _, 50, _, _)\n",
        "    b. now distribute the sum (10+50) missing values in between (10, 10, 12, 12, 12, 12, 12, _, _) \n",
        "    c. now we will distribute 12 to right side missing values (10, 10, 12, 12, 12, 12, 4, 4, 4)\n",
        "</pre>\n",
        "for a given string with comma seprate values, which will have both missing values numbers like ex: \"_, _, x, _, _, _\"\n",
        "you need fill the missing values\n",
        "\n",
        "Q: your program reads a string like ex: \"_, _, x, _, _, _\" and returns the filled sequence\n",
        "\n",
        "Ex: \n",
        "<pre>\n",
        "Input1: \"_,_,_,24\"\n",
        "Output1: 6,6,6,6\n",
        "\n",
        "Input2: \"40,_,_,_,60\"\n",
        "Output2: 20,20,20,20,20\n",
        "\n",
        "Input3: \"80,_,_,_,_\"\n",
        "Output3: 16,16,16,16,16\n",
        "\n",
        "Input4: \"_,_,30,_,_,_,50,_,_\"\n",
        "Output4: 10,10,12,12,12,12,4,4,4\n",
        "\n",
        "</pre>\n",
        "\n"
      ]
    },
    {
      "cell_type": "code",
      "execution_count": 7,
      "metadata": {
        "colab": {
          "base_uri": "https://localhost:8080/"
        },
        "id": "zrhuBz3-Azhb",
        "outputId": "84a256e9-f3fd-4241-c164-f8a878bc7afc"
      },
      "outputs": [
        {
          "output_type": "stream",
          "name": "stdout",
          "text": [
            "Input :  _,_,_,24\n",
            "Output : 6,6,6,6,\n",
            "\n",
            "Input :  40,_,_,_,60\n",
            "Output : 20,20,20,20,20,\n",
            "\n",
            "Input :  80,_,_,_,_\n",
            "Output : 16,16,16,16,16,\n",
            "\n",
            "Input :  _,_,30,_,_,_,50,_,_\n",
            "Output : 10,10,12,12,12,12,4,4,4,\n",
            "\n"
          ]
        }
      ],
      "source": [
        "List = [\"_,_,_,24\",\"40,_,_,_,60\",\"80,_,_,_,_\",\"_,_,30,_,_,_,50,_,_\"]\n",
        "\n",
        "def curve_smoothing(i):\n",
        "    '''\n",
        "    This function fills the blanks\n",
        "    '''\n",
        "    #calling the global variables\n",
        "    global a\n",
        "    global b\n",
        "    global c\n",
        "\n",
        "    #calculating the average\n",
        "    average = ((c+i)/(a-b))\n",
        "\n",
        "    #assigning the average to previous numbers\n",
        "    for j in range(b,a):\n",
        "      String[j] = int(average)\n",
        "\n",
        "    #saving the values for next iteration\n",
        "    c = average \n",
        "    b = a-1\n",
        "  \n",
        "for String in List:\n",
        "  #assigning values for variables\n",
        "  a = b = c = 0\n",
        "  \n",
        "  #For loop to smoothing\n",
        "  print(\"Input : \", String)\n",
        "  String = String.split(\",\")\n",
        "  for i in String:\n",
        "      if i == '_':\n",
        "          a += 1\n",
        "      else:\n",
        "          a += 1\n",
        "          curve_smoothing(int(i))\n",
        "\n",
        "  #reversing the string\n",
        "  String.reverse()\n",
        "\n",
        "  #reassiging the variables for next iteration\n",
        "  a = b = c = 0\n",
        "\n",
        "  #For loop to check the missing values in the end\n",
        "  for i in String:\n",
        "      if i == '_':\n",
        "        a += 1\n",
        "      else:\n",
        "        a += 1\n",
        "        curve_smoothing(int(i))\n",
        "        break #breaking the loop to avoid futher smoothing\n",
        "\n",
        "  #reversing the string to orginal format\n",
        "  String.reverse()\n",
        "\n",
        "  #printing the final string\n",
        "  print(\"Output : \", end = \"\")\n",
        "  for i in String:\n",
        "    print(i, end = \",\")\n",
        "  print(\"\\n\")"
      ]
    },
    {
      "cell_type": "markdown",
      "metadata": {
        "id": "RBz4pzlfB-lB"
      },
      "source": [
        "<h3> Q8: Filling the missing values in the specified formate</h3>\n",
        "You will be given a list of lists, each sublist will be of length 2 i.e. [[x,y],[p,q],[l,m]..[r,s]]\n",
        "consider its like a martrix of n rows and two columns\n",
        "1. the first column F will contain only 5 uniques values (F1, F2, F3, F4, F5)\n",
        "2. the second column S will contain only 3 uniques values (S1, S2, S3)\n",
        "<pre>\n",
        "your task is to find\n",
        "a. Probability of P(F=F1|S==S1), P(F=F1|S==S2), P(F=F1|S==S3)\n",
        "b. Probability of P(F=F2|S==S1), P(F=F2|S==S2), P(F=F2|S==S3)\n",
        "c. Probability of P(F=F3|S==S1), P(F=F3|S==S2), P(F=F3|S==S3)\n",
        "d. Probability of P(F=F4|S==S1), P(F=F4|S==S2), P(F=F4|S==S3)\n",
        "e. Probability of P(F=F5|S==S1), P(F=F5|S==S2), P(F=F5|S==S3)\n",
        "</pre>\n",
        "Ex:\n",
        "\n",
        "<pre>\n",
        "[[F1,S1],[F2,S2],[F3,S3],[F1,S2],[F2,S3],[F3,S2],[F2,S1],[F4,S1],[F4,S3],[F5,S1]]\n",
        "\n",
        "a. P(F=F1|S==S1)=1/4, P(F=F1|S==S2)=1/3, P(F=F1|S==S3)=0/3\n",
        "b. P(F=F2|S==S1)=1/4, P(F=F2|S==S2)=1/3, P(F=F2|S==S3)=1/3\n",
        "c. P(F=F3|S==S1)=0/4, P(F=F3|S==S2)=1/3, P(F=F3|S==S3)=1/3\n",
        "d. P(F=F4|S==S1)=1/4, P(F=F4|S==S2)=0/3, P(F=F4|S==S3)=1/3\n",
        "e. P(F=F5|S==S1)=1/4, P(F=F5|S==S2)=0/3, P(F=F5|S==S3)=0/3\n",
        "</pre>\n",
        "\n",
        "\n"
      ]
    },
    {
      "cell_type": "code",
      "execution_count": 8,
      "metadata": {
        "colab": {
          "base_uri": "https://localhost:8080/"
        },
        "id": "BCRcvthLuUZH",
        "outputId": "e26d81a2-b787-4ae3-81d2-b39a7066f546"
      },
      "outputs": [
        {
          "output_type": "stream",
          "name": "stdout",
          "text": [
            "P(F=F1|S==S1) = 1/4     P(F=F1|S==S2) = 1/3     P(F=F1|S==S3) = 0/3     \n",
            "\n",
            "P(F=F2|S==S1) = 1/4     P(F=F2|S==S2) = 1/3     P(F=F2|S==S3) = 1/3     \n",
            "\n",
            "P(F=F3|S==S1) = 0/4     P(F=F3|S==S2) = 1/3     P(F=F3|S==S3) = 1/3     \n",
            "\n",
            "P(F=F4|S==S1) = 1/4     P(F=F4|S==S2) = 0/3     P(F=F4|S==S3) = 1/3     \n",
            "\n",
            "P(F=F5|S==S1) = 1/4     P(F=F5|S==S2) = 0/3     P(F=F5|S==S3) = 0/3     \n",
            "\n"
          ]
        }
      ],
      "source": [
        "A = [['F1','S1'],['F2','S2'],['F3','S3'],['F1','S2'],['F2','S3'],['F3','S2'],['F2','S1'],['F4','S1'],['F4','S3'],['F5','S1']]\n",
        "\n",
        "#creating empty list\n",
        "S = list()\n",
        "F = list()\n",
        "\n",
        "#separating F's and S's\n",
        "for i in A:\n",
        "  if i[0] not in F:\n",
        "    F.append(i[0])\n",
        "  if i[1] not in S:\n",
        "    S.append(i[1])\n",
        "\n",
        "def computing(a,b):\n",
        "    '''\n",
        "    This function compute the conditional probabilites\n",
        "    '''\n",
        "    #assiging variables\n",
        "    number1 = number2 = 0\n",
        "    lst = list()\n",
        "    \n",
        "    #loop to separates S's\n",
        "    for i in A:\n",
        "      #takes the word from the A\n",
        "      for j in i:\n",
        "        #takes the word from the i\n",
        "        if j == a:\n",
        "          #if the word in i and A are same then 1 is added to number1 and i is appended to list\n",
        "          number1 += 1\n",
        "          lst.append(i)\n",
        "\n",
        "    #loop to separates F's\n",
        "    for i in lst:\n",
        "      #takes the word from the list\n",
        "      for j in i:\n",
        "        #takes the word from the i\n",
        "        if j == b:\n",
        "          #if the word in i and A are same then 1 is added to number2\n",
        "          number2 += 1\n",
        "    return (number2,number1)\n",
        "    \n",
        "#calling function\n",
        "for i in F:\n",
        "  for j in S:\n",
        "    print(\"P(F={}|S=={}) = {}/{}\".format(i,j,computing(j,i)[0],computing(j,i)[1]), end = \"     \")\n",
        "  print(\"\\n\")"
      ]
    },
    {
      "cell_type": "markdown",
      "metadata": {
        "id": "n4HS87QmB-lF"
      },
      "source": [
        "<h3> Q9: Given two sentances S1, S2</h3>\n",
        "You will be given two sentances S1, S2 your task is to find \n",
        "<pre>\n",
        "a. Number of common words between S1, S2\n",
        "b. Words in S1 but not in S2\n",
        "c. Words in S2 but not in S1\n",
        "</pre>\n",
        "\n",
        "Ex: \n",
        "<pre>\n",
        "S1= \"the first column F will contain only 5 uniques values\"\n",
        "S2= \"the second column S will contain only 3 uniques values\"\n",
        "Output:\n",
        "a. 7\n",
        "b. ['first','F','5']\n",
        "c. ['second','S','3']\n",
        "</pre>"
      ]
    },
    {
      "cell_type": "code",
      "execution_count": 9,
      "metadata": {
        "colab": {
          "base_uri": "https://localhost:8080/"
        },
        "id": "2PvSBVUs84Xa",
        "outputId": "0cdffe15-2305-4493-848a-9056afe9a544"
      },
      "outputs": [
        {
          "output_type": "stream",
          "name": "stdout",
          "text": [
            "Number of common words between S1, S2 :  7\n",
            "Words in S1 but not in S2 : ['first', 'F', '5']\n",
            "Words in S2 but not in S1 : ['second', 'S', '3']\n"
          ]
        }
      ],
      "source": [
        "S1= \"the first column F will contain only 5 uniques values\"\n",
        "S2= \"the second column S will contain only 3 uniques values\"\n",
        "\n",
        "#splitting the strings of words\n",
        "S1 = S1.split()\n",
        "S2 = S2.split()\n",
        "\n",
        "#calculating the common words between the strings\n",
        "common_words = 0\n",
        "for i in S1:\n",
        "  #takes the word from the S1\n",
        "  for j in S2:\n",
        "    #takes the word from the S2\n",
        "    if i == j:\n",
        "      #the word picked from the both strings. If they are equal, adds 1 to the common words variable.\n",
        "      common_words += 1\n",
        "      #breaks the second loop to avoid double count of the common words\n",
        "      break\n",
        "\n",
        "#Findings the words in S1 not in S2\n",
        "#empty list to store the words which are in S1 not in S2\n",
        "S1_list = list() \n",
        "for i in S1:\n",
        "  #takes the word from the S1\n",
        "  if i not in S2:\n",
        "    #if the word is present S2 it will append to the list\n",
        "    S1_list.append(i)\n",
        "\n",
        "#Findings the words in S2 not in S1\n",
        "#empty list to store the words which are in S2 not in S1\n",
        "S2_list = list()\n",
        "for i in S2:\n",
        "  #takes the word from the S2\n",
        "  if i not in S1:\n",
        "    #if the word is present S1 it will append to the list\n",
        "    S2_list.append(i)\n",
        "\n",
        "#printing the results\n",
        "print(\"Number of common words between S1, S2 : \", common_words)\n",
        "print(\"Words in S1 but not in S2 :\", S1_list)\n",
        "print(\"Words in S2 but not in S1 :\", S2_list)"
      ]
    },
    {
      "cell_type": "markdown",
      "metadata": {
        "id": "XefXVEjCB-lI"
      },
      "source": [
        "<h3> Q10: Given two sentances S1, S2</h3>\n",
        "You will be given a list of lists, each sublist will be of length 2 i.e. [[x,y],[p,q],[l,m]..[r,s]]\n",
        "consider its like a martrix of n rows and two columns\n",
        "\n",
        "a. the first column Y will contain interger values <br>\n",
        "b. the second column $Y_{score}$ will be having float values <br>\n",
        "Your task is to find the value of $f(Y,Y_{score}) = -1*\\frac{1}{n}\\Sigma_{for each Y,Y_{score} pair}(Ylog10(Y_{score})+(1-Y)log10(1-Y_{score}))$ here n is the number of rows in the matrix\n",
        "<pre>\n",
        "Ex:\n",
        "[[1, 0.4], [0, 0.5], [0, 0.9], [0, 0.3], [0, 0.6], [1, 0.1], [1, 0.9], [1, 0.8]]\n",
        "output:\n",
        "0.4243099\n",
        "</pre>\n",
        "$\\frac{-1}{8}\\cdot((1\\cdot log_{10}(0.4)+0\\cdot log_{10}(0.6))+(0\\cdot log_{10}(0.5)+1\\cdot log_{10}(0.5)) + ... + (1\\cdot log_{10}(0.8)+0\\cdot log_{10}(0.2)) )$"
      ]
    },
    {
      "cell_type": "code",
      "execution_count": 10,
      "metadata": {
        "colab": {
          "base_uri": "https://localhost:8080/"
        },
        "id": "rxgfPl2xDOmD",
        "outputId": "521ae2f6-ad49-4a41-94ac-29acafe8ea57"
      },
      "outputs": [
        {
          "output_type": "stream",
          "name": "stdout",
          "text": [
            "0.4243099\n"
          ]
        }
      ],
      "source": [
        "A = [[1, 0.4], [0, 0.5], [0, 0.9], [0, 0.3], [0, 0.6], [1, 0.1], [1, 0.9], [1, 0.8]]\n",
        "\n",
        "#importing math library for log10 function\n",
        "import math\n",
        "\n",
        "#summation of log loss\n",
        "log_loss = 0\n",
        "for i in A:\n",
        "  if i[0] == 1:\n",
        "    #calculating the log loss for values equal to 1 and adding to the total \n",
        "    log_loss += (int(i[0]) * math.log10(float(i[1])))\n",
        "  else:\n",
        "    #calculating the log loss for values equal to 0 and adding to the total \n",
        "    log_loss += ((int(1-i[0]) * math.log10(1-float(i[1]))))\n",
        "  \n",
        "#dividing the log loss with the total n with negative to it\n",
        "log_loss = log_loss * -1/len(A)\n",
        "\n",
        "#printing the answer with precision \n",
        "print(round(log_loss,7))"
      ]
    }
  ],
  "metadata": {
    "colab": {
      "provenance": []
    },
    "kernelspec": {
      "display_name": "Python 3",
      "language": "python",
      "name": "python3"
    },
    "language_info": {
      "codemirror_mode": {
        "name": "ipython",
        "version": 3
      },
      "file_extension": ".py",
      "mimetype": "text/x-python",
      "name": "python",
      "nbconvert_exporter": "python",
      "pygments_lexer": "ipython3",
      "version": "3.6.3"
    }
  },
  "nbformat": 4,
  "nbformat_minor": 0
}